{
 "cells": [
  {
   "cell_type": "code",
   "execution_count": null,
   "metadata": {
    "collapsed": true
   },
   "outputs": [],
   "source": [
    "%matplotlib inline"
   ]
  },
  {
   "cell_type": "markdown",
   "metadata": {},
   "source": [
    "# 第2部 特集4 Python で画像認識にチャレンジ (1)"
   ]
  },
  {
   "cell_type": "markdown",
   "metadata": {},
   "source": [
    "----"
   ]
  },
  {
   "cell_type": "markdown",
   "metadata": {},
   "source": [
    "## 第1章"
   ]
  },
  {
   "cell_type": "markdown",
   "metadata": {
    "collapsed": true
   },
   "source": [
    "- 画像認識の代表的な問題\n",
    "\n",
    "    - 移動体検知\n",
    "    - 物体認識\n",
    "    - 物体検出\n",
    "    - 類似画像検索\n"
   ]
  },
  {
   "cell_type": "markdown",
   "metadata": {},
   "source": [
    "----"
   ]
  },
  {
   "cell_type": "markdown",
   "metadata": {},
   "source": [
    "## 第2章 環境構築\n",
    "\n",
    " $ pip install scikit-learn scikit-image matplotlib"
   ]
  },
  {
   "cell_type": "markdown",
   "metadata": {},
   "source": [
    "### scikit-image"
   ]
  },
  {
   "cell_type": "markdown",
   "metadata": {},
   "source": [
    "◯リスト1 画像の読み書き・表示"
   ]
  },
  {
   "cell_type": "code",
   "execution_count": null,
   "metadata": {
    "collapsed": true
   },
   "outputs": [],
   "source": [
    "from skimage import io"
   ]
  },
  {
   "cell_type": "code",
   "execution_count": null,
   "metadata": {
    "collapsed": false
   },
   "outputs": [],
   "source": [
    "image = io.imread('mandrill.png') #画像ファイルの読み込み\n",
    "io.imshow(image)                  #画像ファイルの表示\n",
    "#io.show()                        # jupyter では不要?"
   ]
  },
  {
   "cell_type": "code",
   "execution_count": null,
   "metadata": {
    "collapsed": false
   },
   "outputs": [],
   "source": [
    "%rm mandrill2.png\n",
    "%ls -la mandrill2.png"
   ]
  },
  {
   "cell_type": "code",
   "execution_count": null,
   "metadata": {
    "collapsed": true
   },
   "outputs": [],
   "source": [
    "io.imsave('mandrill2.png',image) #画像ファイルの保存"
   ]
  },
  {
   "cell_type": "code",
   "execution_count": null,
   "metadata": {
    "collapsed": false
   },
   "outputs": [],
   "source": [
    "%ls -la mandrill2.png"
   ]
  },
  {
   "cell_type": "markdown",
   "metadata": {},
   "source": [
    "◯リスト2 画像の表現を取得"
   ]
  },
  {
   "cell_type": "code",
   "execution_count": null,
   "metadata": {
    "collapsed": true
   },
   "outputs": [],
   "source": [
    "image = io.imread('mandrill.png')"
   ]
  },
  {
   "cell_type": "code",
   "execution_count": null,
   "metadata": {
    "collapsed": false
   },
   "outputs": [],
   "source": [
    "print '(1)', type(image)     # (1) imageの型名"
   ]
  },
  {
   "cell_type": "code",
   "execution_count": null,
   "metadata": {
    "collapsed": false
   },
   "outputs": [],
   "source": [
    "print '(2)', image.shape     # (2) image 各次元の大きさ"
   ]
  },
  {
   "cell_type": "code",
   "execution_count": null,
   "metadata": {
    "collapsed": false
   },
   "outputs": [],
   "source": [
    "print '(3)', image[300,400]  # (3) 座標(300,400)の画素値"
   ]
  },
  {
   "cell_type": "markdown",
   "metadata": {},
   "source": [
    "◯リスト3 画像の要素に対する操作"
   ]
  },
  {
   "cell_type": "code",
   "execution_count": null,
   "metadata": {
    "collapsed": false
   },
   "outputs": [],
   "source": [
    "image[240,240, 0:3] = [0, 0, 255] #中央ピクセルを青くする\n",
    "io.imshow(image)                  #画像ファイルの表示"
   ]
  },
  {
   "cell_type": "code",
   "execution_count": null,
   "metadata": {
    "collapsed": false
   },
   "outputs": [],
   "source": [
    "image[20:140, 20:200, 0:3] = [0,0,0]  # (20,20)から(140,200)までの四角を黒に\n",
    "#      Y軸      X軸    要素\n",
    "io.imshow(image)                      #画像ファイルの表示"
   ]
  },
  {
   "cell_type": "code",
   "execution_count": null,
   "metadata": {
    "collapsed": false
   },
   "outputs": [],
   "source": [
    "image[300:400, 100:400, 0:3] *= 0.5  # (300,100)から(400,400)までの四角を薄くする\n",
    "#      Y軸      X軸    要素\n",
    "io.imshow(image)                      #画像ファイルの表示"
   ]
  },
  {
   "cell_type": "markdown",
   "metadata": {},
   "source": [
    "----"
   ]
  },
  {
   "cell_type": "markdown",
   "metadata": {},
   "source": [
    "次の章の準備で、マンドリルの目を切り出しておく"
   ]
  },
  {
   "cell_type": "code",
   "execution_count": null,
   "metadata": {
    "collapsed": false
   },
   "outputs": [],
   "source": [
    "image = io.imread('mandrill.png') #画像ファイルの読み込み\n",
    "io.imshow(image)                  #画像ファイルの表示\n",
    "#io.show()                        # jupyter では不要?"
   ]
  },
  {
   "cell_type": "code",
   "execution_count": null,
   "metadata": {
    "collapsed": false
   },
   "outputs": [],
   "source": [
    "io.imsave('eye.png',image[40:80,145:185]) #目玉部分を切り出して eye.png ファイルに保存\n",
    "io.imshow('eye.png')                      #eye.png を表示"
   ]
  },
  {
   "cell_type": "markdown",
   "metadata": {},
   "source": [
    "----"
   ]
  },
  {
   "cell_type": "markdown",
   "metadata": {},
   "source": [
    "## 第3章 シンプルな画像認識を実装"
   ]
  },
  {
   "cell_type": "markdown",
   "metadata": {},
   "source": [
    "◯リスト1 単純なテンプレートマッチング"
   ]
  },
  {
   "cell_type": "code",
   "execution_count": null,
   "metadata": {
    "collapsed": true
   },
   "outputs": [],
   "source": [
    "import sys\n",
    "import numpy as np\n",
    "from skimage  import io\n",
    "import matplotlib.pyplot as plt\n",
    "import matplotlib.cm as cm"
   ]
  },
  {
   "cell_type": "code",
   "execution_count": null,
   "metadata": {
    "collapsed": true
   },
   "outputs": [],
   "source": [
    "# テンプレートファイルと評価画像の指定\n",
    "template_path = 'eye.png'\n",
    "target_path   = 'mandrill.png'"
   ]
  },
  {
   "cell_type": "code",
   "execution_count": null,
   "metadata": {
    "collapsed": true
   },
   "outputs": [],
   "source": [
    "# ファイルをグレースケール(Gray1次元の色表現)で取得\n",
    "template = io.imread(template_path, as_grey=True)\n",
    "target   = io.imread(target_path,   as_grey=True)"
   ]
  },
  {
   "cell_type": "code",
   "execution_count": null,
   "metadata": {
    "collapsed": false
   },
   "outputs": [],
   "source": [
    "io.imshow(template)"
   ]
  },
  {
   "cell_type": "code",
   "execution_count": null,
   "metadata": {
    "collapsed": false
   },
   "outputs": [],
   "source": [
    "template"
   ]
  },
  {
   "cell_type": "code",
   "execution_count": null,
   "metadata": {
    "collapsed": false
   },
   "outputs": [],
   "source": [
    "th, tw   = template.shape # テンプレート画像のサイズを取得\n",
    "th , tw , template.shape , target.shape"
   ]
  },
  {
   "cell_type": "code",
   "execution_count": null,
   "metadata": {
    "collapsed": false
   },
   "outputs": [],
   "source": [
    "# 類似度を図るために、差の2乗和(Sum of Squard Difference) を格納する 440 x 440 の 0 埋め配列を生成\n",
    "score_map = np.zeros( shape = (target.shape[0] - th,\n",
    "                               target.shape[1] - tw))\n",
    "score_map.shape"
   ]
  },
  {
   "cell_type": "code",
   "execution_count": null,
   "metadata": {
    "collapsed": false
   },
   "outputs": [],
   "source": [
    "# 画像全体を1pixcelづつ移動して SSD を計算\n",
    "for y in range(score_map.shape[0]): # Y軸\n",
    "    for x in range(score_map.shape[1]): # X軸\n",
    "        diff = target[y : y+th, x : x+tw] - template #ターゲットより 40x40の範囲を切り出して、Grayの差をとる\n",
    "        score_map[y,x] = np.square(diff).sum()       #40x40点のGray差の二乗和をとる  \n",
    "        if x == 1 and y == 1:\n",
    "            print \"diff is \",diff\n",
    "            print \"SSD is \",score_map[x,y]"
   ]
  },
  {
   "cell_type": "code",
   "execution_count": null,
   "metadata": {
    "collapsed": false
   },
   "outputs": [],
   "source": [
    "# SSDが最小の座標を取得\n",
    "x, y = np.unravel_index(np.argmin(score_map),score_map.shape)\n",
    "x, y"
   ]
  },
  {
   "cell_type": "code",
   "execution_count": null,
   "metadata": {
    "collapsed": false
   },
   "outputs": [],
   "source": [
    "# 結果を可視化\n",
    "fig, (ax1,ax2,ax3) = plt.subplots(ncols=3, figsize=(8,3))\n",
    "\n",
    "ax1.imshow(template, cmap=cm.Greys_r)\n",
    "ax1.set_axis_off()\n",
    "ax1.set_title('template')\n",
    "\n",
    "ax2.imshow(target, cmap=cm.Greys_r)\n",
    "ax2.set_axis_off()\n",
    "ax2.set_title('target')\n",
    "ax2.add_patch(plt.Rectangle((y,x), tw, th, edgecolor='w', facecolor='none', linewidth=2.5)) #マッチ位置\n",
    "\n",
    "\n",
    "ax3.imshow(score_map, cmap=cm.Greys_r)\n",
    "ax3.set_axis_off()\n",
    "ax3.set_title('score_map')\n",
    "ax3.add_patch(plt.Rectangle((y - th / 2,x - tw/2), tw, th, edgecolor='w', facecolor='none', linewidth=2.5)) #マッチ位置"
   ]
  },
  {
   "cell_type": "markdown",
   "metadata": {},
   "source": [
    "----"
   ]
  },
  {
   "cell_type": "markdown",
   "metadata": {},
   "source": [
    "◯リスト2 拡大縮小に対応したテンプレートマッチング"
   ]
  },
  {
   "cell_type": "code",
   "execution_count": null,
   "metadata": {
    "collapsed": false
   },
   "outputs": [],
   "source": [
    "# 小さなテンプレート画像を作る\n",
    "from skimage.transform import rescale\n",
    "image = io.imread('eye.png', as_grey=True)\n",
    "smallImage = rescale(image, 0.3) # スケールを変更する\n",
    "io.imshow(smallImage)\n",
    "smallImage.shape"
   ]
  },
  {
   "cell_type": "code",
   "execution_count": null,
   "metadata": {
    "collapsed": true
   },
   "outputs": [],
   "source": [
    "template = smallImage                              # テンプレートのスケールが小さくなった\n",
    "target = io.imread(target_path,   as_grey=True)    # 今までと同じターゲット"
   ]
  },
  {
   "cell_type": "code",
   "execution_count": null,
   "metadata": {
    "collapsed": true
   },
   "outputs": [],
   "source": [
    "def compute_score_map(template, target):\n",
    "    th, tw = template.shape\n",
    "    score_map = np.zeros( shape = (target.shape[0] - th,\n",
    "                                   target.shape[1] - tw))\n",
    "    # 画像全体を1pixcelづつ移動して SSD を計算\n",
    "    for y in range(score_map.shape[0]): # Y軸\n",
    "        for x in range(score_map.shape[1]): # X軸\n",
    "            diff = target[y : y+th, x : x+tw] - template #ターゲットより 40x40の範囲を切り出して、Grayの差をとる\n",
    "            score_map[y,x] = np.square(diff).sum()       #40x40点のGray差の二乗和をとる  # score_mapの座標が y,x に注目!\n",
    "    print \"min score is \" , np.min(score_map)\n",
    "    return score_map"
   ]
  },
  {
   "cell_type": "code",
   "execution_count": null,
   "metadata": {
    "collapsed": false
   },
   "outputs": [],
   "source": [
    "from skimage.transform import rescale\n",
    "\n",
    "score_maps = []\n",
    "scale_factor = 2.0 ** (-1.0/8.0)\n",
    "target_scaled = target + 0\n",
    "while target_scaled.shape > template.shape: #サンプルでは 8回決め打ちだったけど、テンプレートより小さくなるまでやる様変更\n",
    "#for s in range(8):\n",
    "    print \"target shape is \", target_scaled.shape\n",
    "    score_maps.append( compute_score_map(template, target_scaled))\n",
    "    target_scaled = rescale(target_scaled, scale_factor)\n"
   ]
  },
  {
   "cell_type": "code",
   "execution_count": null,
   "metadata": {
    "collapsed": false
   },
   "outputs": [],
   "source": [
    "score, s, (x,y) = min([(np.min(score_map), s,\n",
    "                        np.unravel_index(np.argmin(score_map), score_map.shape))\n",
    "                      for s, score_map in enumerate(score_maps)])"
   ]
  },
  {
   "cell_type": "code",
   "execution_count": null,
   "metadata": {
    "collapsed": false
   },
   "outputs": [],
   "source": [
    "# 結果を可視化\n",
    "fig, (ax1,ax2) = plt.subplots(ncols=2, figsize=(8,3))\n",
    "\n",
    "ax1.imshow(template, cmap=cm.Greys_r)\n",
    "ax1.set_axis_off()\n",
    "ax1.set_title('template')\n",
    "\n",
    "ax2.imshow(target, cmap=cm.Greys_r)\n",
    "ax2.set_axis_off()\n",
    "ax2.set_title('target')\n",
    "scale = (scale_factor ** s)\n",
    "th, tw = template.shape\n",
    "rect = plt.Rectangle((y / scale, x / scale), tw / scale, th / scale, edgecolor='r', facecolor='none') #マッチ位置\n",
    "ax2.add_patch(rect)\n"
   ]
  },
  {
   "cell_type": "code",
   "execution_count": null,
   "metadata": {
    "collapsed": true
   },
   "outputs": [],
   "source": []
  }
 ],
 "metadata": {
  "kernelspec": {
   "display_name": "Python 2",
   "language": "python",
   "name": "python2"
  },
  "language_info": {
   "codemirror_mode": {
    "name": "ipython",
    "version": 2
   },
   "file_extension": ".py",
   "mimetype": "text/x-python",
   "name": "python",
   "nbconvert_exporter": "python",
   "pygments_lexer": "ipython2",
   "version": "2.7.6"
  }
 },
 "nbformat": 4,
 "nbformat_minor": 0
}
