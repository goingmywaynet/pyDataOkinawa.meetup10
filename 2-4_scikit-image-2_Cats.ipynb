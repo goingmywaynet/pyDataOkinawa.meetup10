{
 "cells": [
  {
   "cell_type": "code",
   "execution_count": null,
   "metadata": {
    "collapsed": true
   },
   "outputs": [],
   "source": [
    "%matplotlib inline"
   ]
  },
  {
   "cell_type": "markdown",
   "metadata": {},
   "source": [
    "# 第2部 特集4 Python で画像認識にチャレンジ (2)"
   ]
  },
  {
   "cell_type": "markdown",
   "metadata": {},
   "source": [
    "## 第4章 猫顔検出に挑戦"
   ]
  },
  {
   "cell_type": "code",
   "execution_count": null,
   "metadata": {
    "collapsed": true
   },
   "outputs": [],
   "source": [
    "import sys , os , re\n",
    "import numpy as np\n",
    "from skimage import io, feature, color , transform\n",
    "from xml.etree import ElementTree as et\n",
    "import matplotlib.pyplot as plt\n",
    "from glob import iglob\n",
    "import pickle"
   ]
  },
  {
   "cell_type": "markdown",
   "metadata": {},
   "source": [
    "----"
   ]
  },
  {
   "cell_type": "markdown",
   "metadata": {},
   "source": [
    "### 猫画像の準備"
   ]
  },
  {
   "cell_type": "markdown",
   "metadata": {},
   "source": [
    "教科書の Cat Dataset はアクセス不可だったため、http://www.robots.ox.ac.uk/~vgg/data/pets/ で代用（犬もある！）"
   ]
  },
  {
   "cell_type": "markdown",
   "metadata": {},
   "source": [
    "images.tar.gz に画像ファイル\n",
    "\n",
    "annotations.tar.gz の xmls 内に顔の位置を示す ymin,ymax,xmin,xmax 座標あり"
   ]
  },
  {
   "cell_type": "code",
   "execution_count": null,
   "metadata": {
    "collapsed": true
   },
   "outputs": [],
   "source": [
    "#画像ファイルと顔の座標がわかるannotationファイルを与えて、元画像と顔画像を返す\n",
    "def loadImagesWithFace (imgFile,xmlFile):\n",
    "    image = io.imread(imgFile)\n",
    "    tree  = et.parse(xmlFile)\n",
    "    elem  = tree.getroot()\n",
    "    ymin = int(elem.findtext(\".//ymin\"))\n",
    "    ymax = int(elem.findtext(\".//ymax\"))\n",
    "    xmin = int(elem.findtext(\".//xmin\"))\n",
    "    xmax = int(elem.findtext(\".//xmax\"))\n",
    "    return image,image[ymin:ymax,xmin:xmax]"
   ]
  },
  {
   "cell_type": "code",
   "execution_count": null,
   "metadata": {
    "collapsed": false
   },
   "outputs": [],
   "source": [
    "img, face = loadImagesWithFace('cats/Abyssinian_1.jpg','xmls/Abyssinian_1.xml')"
   ]
  },
  {
   "cell_type": "code",
   "execution_count": null,
   "metadata": {
    "collapsed": false
   },
   "outputs": [],
   "source": [
    "# 結果を可視化\n",
    "fig, (ax1,ax2,ax3) = plt.subplots(ncols=3, figsize=(8,3))\n",
    "\n",
    "ax1.imshow(img)\n",
    "ax1.set_axis_off()\n",
    "ax1.set_title('image')\n",
    "\n",
    "ax2.imshow(face)\n",
    "ax2.set_axis_off()\n",
    "ax2.set_title('face')\n",
    "\n",
    "ax3.imshow(color.rgb2gray(face))\n",
    "ax3.set_axis_off()\n",
    "ax3.set_title('rgb2gray')"
   ]
  },
  {
   "cell_type": "code",
   "execution_count": null,
   "metadata": {
    "collapsed": false
   },
   "outputs": [],
   "source": [
    "face.shape"
   ]
  },
  {
   "cell_type": "markdown",
   "metadata": {},
   "source": [
    "しかし、顔サイズが画像によってバラバラ"
   ]
  },
  {
   "cell_type": "markdown",
   "metadata": {},
   "source": [
    "なので、最初から指定サイズになるような関数を作成"
   ]
  },
  {
   "cell_type": "code",
   "execution_count": null,
   "metadata": {
    "collapsed": false
   },
   "outputs": [],
   "source": [
    "#画像ファイルと顔の座標がわかるannotationファイルを与えて、元画像と顔画像を返す\n",
    "#返す顔画像は指定のサイズにする\n",
    "def loadImagesWithFaceResize (imgFile,xmlFile,size):\n",
    "    image = io.imread(imgFile)\n",
    "    tree  = et.parse(xmlFile)\n",
    "    elem  = tree.getroot()\n",
    "    ymin = int(elem.findtext(\".//ymin\"))\n",
    "    ymax = int(elem.findtext(\".//ymax\"))\n",
    "    xmin = int(elem.findtext(\".//xmin\"))\n",
    "    xmax = int(elem.findtext(\".//xmax\"))\n",
    "    ycenter = (ymin + ymax) / 2 \n",
    "    xcenter = (xmin + xmax) / 2\n",
    "    width  = xmax - xmin\n",
    "    height = ymax - ymin\n",
    "    if max(width,height) <= image.shape[0] & max(width,height) <= image.shape[1]:\n",
    "        orgSize = max(width,height)\n",
    "    else : #顔部分をスクエア化した結果、元画像より大きくならないための対策\n",
    "        orgSize = min(width,height)\n",
    "    face = image[ycenter - orgSize/2:ycenter + orgSize/2 , \n",
    "                 xcenter - orgSize/2:xcenter + orgSize/2]\n",
    "    return image,transform.resize(face,(size,size))"
   ]
  },
  {
   "cell_type": "code",
   "execution_count": null,
   "metadata": {
    "collapsed": false
   },
   "outputs": [],
   "source": [
    "img, face = loadImagesWithFaceResize('cats/Abyssinian_1.jpg',\n",
    "                                     'xmls/Abyssinian_1.xml',64)"
   ]
  },
  {
   "cell_type": "code",
   "execution_count": null,
   "metadata": {
    "collapsed": false
   },
   "outputs": [],
   "source": [
    "# 結果を可視化\n",
    "fig, (ax1,ax2,ax3) = plt.subplots(ncols=3, figsize=(8,3))\n",
    "\n",
    "ax1.imshow(img)\n",
    "ax1.set_axis_off()\n",
    "ax1.set_title('image')\n",
    "\n",
    "ax2.imshow(face)\n",
    "ax2.set_axis_off()\n",
    "ax2.set_title('face')\n",
    "\n",
    "ax3.imshow(color.rgb2gray(face))\n",
    "ax3.set_axis_off()\n",
    "ax3.set_title('rgb2gray')"
   ]
  },
  {
   "cell_type": "code",
   "execution_count": null,
   "metadata": {
    "collapsed": false
   },
   "outputs": [],
   "source": [
    "face.shape"
   ]
  },
  {
   "cell_type": "markdown",
   "metadata": {},
   "source": [
    "あとは画像をたくさん用意するだけ。\n",
    "- cats フォルダに正例\n",
    "- dogs フォルダを負例\n",
    "\n",
    "- cats_test に正例テストデータ\n",
    "- dogs_test に負例テストデータ\n",
    "\n",
    "として用意した。"
   ]
  },
  {
   "cell_type": "markdown",
   "metadata": {},
   "source": [
    "----"
   ]
  },
  {
   "cell_type": "markdown",
   "metadata": {},
   "source": [
    "ここからようやく本来のテキストに戻る"
   ]
  },
  {
   "cell_type": "markdown",
   "metadata": {},
   "source": [
    "◯リスト1 セルごとにLBP特徴量のヒストグラムを求める"
   ]
  },
  {
   "cell_type": "code",
   "execution_count": null,
   "metadata": {
    "collapsed": true
   },
   "outputs": [],
   "source": [
    "# LBP定数\n",
    "LBP_RADIUS = 3  #注目画素の3pxを半径とした\n",
    "LBP_POINTS = 24 #24点の明暗を比較する\n",
    "CELL_SIZE  = 4  #ヒストグラムを評価するセルのサイズ\n",
    "WINDOW_SIZE= 64 #検出窓ザイズ = 学習画像のサイズ"
   ]
  },
  {
   "cell_type": "code",
   "execution_count": null,
   "metadata": {
    "collapsed": true
   },
   "outputs": [],
   "source": [
    "# セルごとにLBP(Local Binary Pattern) を算出 渡すのはグレースケール化された画像\n",
    "def get_histogram(image):\n",
    "    lbp = feature.local_binary_pattern(image, LBP_POINTS, LBP_RADIUS, 'uniform')\n",
    "    bins = LBP_POINTS + 2 #追加される2種類は 0 と non-uniform\n",
    "    histogram = np.zeros(shape = (image.shape[0] / CELL_SIZE,\n",
    "                                  image.shape[1] / CELL_SIZE, bins),\n",
    "                         dtype = np.int)\n",
    "    for y in range(0, image.shape[0] - CELL_SIZE, CELL_SIZE):\n",
    "        for x in range(0, image.shape[1] - CELL_SIZE, CELL_SIZE):\n",
    "            \n",
    "            for dy in range(CELL_SIZE):\n",
    "                for dx in range(CELL_SIZE):\n",
    "                    histogram[ y / CELL_SIZE,\n",
    "                               x / CELL_SIZE,\n",
    "                               int(lbp[y+dy, x+dx])] += 1\n",
    "    return histogram"
   ]
  },
  {
   "cell_type": "code",
   "execution_count": null,
   "metadata": {
    "collapsed": false
   },
   "outputs": [],
   "source": [
    "# 顔画像とグレースケールした顔画像のshape\n",
    "face.shape , color.rgb2gray(face).shape"
   ]
  },
  {
   "cell_type": "code",
   "execution_count": null,
   "metadata": {
    "collapsed": false
   },
   "outputs": [],
   "source": [
    "# ヒストグラム化した値\n",
    "get_histogram(color.rgb2gray(face)).shape"
   ]
  },
  {
   "cell_type": "markdown",
   "metadata": {},
   "source": [
    "----"
   ]
  },
  {
   "cell_type": "markdown",
   "metadata": {},
   "source": [
    "◯リスト2改 正例、負例それぞれの特徴量を計算（ただし、顔画像を抽出しながらやる点で改造した）"
   ]
  },
  {
   "cell_type": "code",
   "execution_count": null,
   "metadata": {
    "collapsed": false
   },
   "outputs": [],
   "source": [
    "def get_features(ImgDirectory , XmlDirectory):\n",
    "    features = []\n",
    "    re_jpgFile = re.compile(r\"/((.*).jpg)\") #拡張子付きファイル名と拡張子抜きファイル名\n",
    "    \n",
    "    for imgFile in iglob('%s/*.jpg' % ImgDirectory):\n",
    "        name = re.search(re_jpgFile,imgFile).group(2)\n",
    "        xmlFile = XmlDirectory + name + \".xml\"\n",
    "        if os.path.exists(xmlFile):\n",
    "            print \"found \" + name\n",
    "            img, face = loadImagesWithFaceResize(imgFile,xmlFile,WINDOW_SIZE)\n",
    "            image = color.rgb2gray(face)\n",
    "            features.append(get_histogram(image).reshape(-1))\n",
    "            features.append(get_histogram(np.fliplr(image)).reshape(-1))\n",
    "    return features"
   ]
  },
  {
   "cell_type": "code",
   "execution_count": null,
   "metadata": {
    "collapsed": false
   },
   "outputs": [],
   "source": [
    "def get_featuresNega(ImgDirectory):\n",
    "    features = []\n",
    "    re_jpgFile = re.compile(r\"/((.*).png)\") #拡張子付きファイル名と拡張子抜きファイル名\n",
    "    \n",
    "    for imgFile in iglob('%s/*.png' % ImgDirectory):\n",
    "        name = re.search(re_jpgFile,imgFile).group(2)\n",
    "        print \"found \" + name\n",
    "        image = color.rgb2gray(io.imread(ImgDirectory+\"/\"+name+\".png\"))\n",
    "        features.append(get_histogram(image).reshape(-1))\n",
    "        features.append(get_histogram(np.fliplr(image)).reshape(-1))\n",
    "    return features"
   ]
  },
  {
   "cell_type": "markdown",
   "metadata": {
    "collapsed": true
   },
   "source": [
    "◯リスト2改 LBP化main"
   ]
  },
  {
   "cell_type": "code",
   "execution_count": null,
   "metadata": {
    "collapsed": false
   },
   "outputs": [],
   "source": [
    "xml_dir = 'xmls/'\n",
    "positive_dir = 'cats/'\n",
    "negative_dir = 'dogs/'\n",
    "# negative_dir = 'negatives/'\n",
    "positive_samples = get_features(positive_dir,xml_dir)\n",
    "negative_samples = get_features(negative_dir,xml_dir)\n",
    "#negative_samples = get_featuresNega(negative_dir)\n",
    "n_positives = len(positive_samples)\n",
    "n_negatives = len(negative_samples)\n",
    "X = np.array(positive_samples + negative_samples)\n",
    "y = np.array([1 for i in range(n_positives)] +\n",
    "             [0 for i in range(n_negatives)])"
   ]
  },
  {
   "cell_type": "code",
   "execution_count": null,
   "metadata": {
    "collapsed": false
   },
   "outputs": [],
   "source": [
    "X.shape"
   ]
  },
  {
   "cell_type": "code",
   "execution_count": null,
   "metadata": {
    "collapsed": false
   },
   "outputs": [],
   "source": [
    "y , y.shape"
   ]
  },
  {
   "cell_type": "code",
   "execution_count": null,
   "metadata": {
    "collapsed": true
   },
   "outputs": [],
   "source": [
    "X , y = sklearn.utils.shuffle(X,y)"
   ]
  },
  {
   "cell_type": "code",
   "execution_count": null,
   "metadata": {
    "collapsed": false
   },
   "outputs": [],
   "source": [
    "y, y.shape"
   ]
  },
  {
   "cell_type": "markdown",
   "metadata": {},
   "source": [
    "----"
   ]
  },
  {
   "cell_type": "markdown",
   "metadata": {
    "collapsed": true
   },
   "source": [
    "◯リスト3改 SVMを学習"
   ]
  },
  {
   "cell_type": "code",
   "execution_count": null,
   "metadata": {
    "collapsed": true
   },
   "outputs": [],
   "source": [
    "import sklearn.svm"
   ]
  },
  {
   "cell_type": "code",
   "execution_count": null,
   "metadata": {
    "collapsed": true
   },
   "outputs": [],
   "source": [
    "classifier = sklearn.svm.LinearSVC(C = 0.0001)"
   ]
  },
  {
   "cell_type": "code",
   "execution_count": null,
   "metadata": {
    "collapsed": false
   },
   "outputs": [],
   "source": [
    "classifier.fit(X,y)"
   ]
  },
  {
   "cell_type": "code",
   "execution_count": null,
   "metadata": {
    "collapsed": true
   },
   "outputs": [],
   "source": [
    "y_predict = classifier.predict(X)"
   ]
  },
  {
   "cell_type": "code",
   "execution_count": null,
   "metadata": {
    "collapsed": false
   },
   "outputs": [],
   "source": [
    "y_predict"
   ]
  },
  {
   "cell_type": "code",
   "execution_count": null,
   "metadata": {
    "collapsed": false
   },
   "outputs": [],
   "source": [
    "correct = 0\n",
    "for i in range(len(y)):\n",
    "    if y[i] == y_predict[i]: correct += 1\n",
    "print 'Accuracy: %f' % (float(correct)/len(y))"
   ]
  },
  {
   "cell_type": "markdown",
   "metadata": {},
   "source": [
    "ん？過学習？　っていうか、学習データでpredictしてる ..."
   ]
  },
  {
   "cell_type": "markdown",
   "metadata": {},
   "source": [
    "そんなわけで、別にテストデータを用意"
   ]
  },
  {
   "cell_type": "code",
   "execution_count": null,
   "metadata": {
    "collapsed": false
   },
   "outputs": [],
   "source": [
    "positive_test_dir = 'cats_test/'\n",
    "negative_test_dir = 'dogs_test/'\n",
    "positive_test_samples = get_features(positive_test_dir,xml_dir)\n",
    "negative_test_samples = get_features(negative_test_dir,xml_dir)\n",
    "n_positives = len(positive_test_samples)\n",
    "n_negatives = len(negative_test_samples)\n",
    "X = np.array(positive_test_samples + negative_test_samples)\n",
    "y = np.array([1 for i in range(n_positives)] +\n",
    "             [0 for i in range(n_negatives)])\n"
   ]
  },
  {
   "cell_type": "code",
   "execution_count": null,
   "metadata": {
    "collapsed": false
   },
   "outputs": [],
   "source": [
    "y #用意したテストデータの正答"
   ]
  },
  {
   "cell_type": "code",
   "execution_count": null,
   "metadata": {
    "collapsed": false
   },
   "outputs": [],
   "source": [
    "X, y = sklearn.utils.shuffle( X, y ) #シャッフルしてみる"
   ]
  },
  {
   "cell_type": "code",
   "execution_count": null,
   "metadata": {
    "collapsed": false
   },
   "outputs": [],
   "source": [
    "y"
   ]
  },
  {
   "cell_type": "code",
   "execution_count": null,
   "metadata": {
    "collapsed": true
   },
   "outputs": [],
   "source": [
    "y_predict = classifier.predict(X)"
   ]
  },
  {
   "cell_type": "code",
   "execution_count": null,
   "metadata": {
    "collapsed": false
   },
   "outputs": [],
   "source": [
    "y_predict #判定結果"
   ]
  },
  {
   "cell_type": "code",
   "execution_count": null,
   "metadata": {
    "collapsed": false
   },
   "outputs": [],
   "source": [
    "correct = 0\n",
    "for i in range(len(y)):\n",
    "    if y[i] == y_predict[i]: correct += 1\n",
    "print 'Accuracy: %f' % (float(correct)/len(y))"
   ]
  },
  {
   "cell_type": "markdown",
   "metadata": {},
   "source": [
    "まあ、こんなもんだよね\n",
    "\n",
    "っていうか、ランダムしなくて良いのか？"
   ]
  },
  {
   "cell_type": "markdown",
   "metadata": {},
   "source": [
    "----"
   ]
  },
  {
   "cell_type": "markdown",
   "metadata": {},
   "source": [
    "◯リスト5改 検出処理"
   ]
  },
  {
   "cell_type": "code",
   "execution_count": null,
   "metadata": {
    "collapsed": true
   },
   "outputs": [],
   "source": [
    "THRESHOLD = 1.0 #3.0だと厳しすぎる\n",
    "targetImg = 'cats_test/Abyssinian_195.jpg' #正面向いている写真を選ばないときつい\n",
    "targetXml = 'xmls/Abyssinian_195.xml'"
   ]
  },
  {
   "cell_type": "code",
   "execution_count": null,
   "metadata": {
    "collapsed": false
   },
   "outputs": [],
   "source": [
    "svm = classifier\n",
    "target , face = loadImagesWithFaceResize(targetImg,targetXml,64)\n",
    "target_scaled = target + 0\n",
    "scale_factor = 2.0** (-1.0/8.0)\n",
    "scores = []\n",
    "detections = []\n",
    "s = 1\n",
    "#for s in range(16):\n",
    "while target_scaled.shape > (WINDOW_SIZE, WINDOW_SIZE):\n",
    "    histogram = get_histogram(color.rgb2gray(target_scaled))\n",
    "    print \"target shape is \", target_scaled.shape\n",
    "    print \"histogram shape is \", histogram.shape\n",
    "    for y in range(0,histogram.shape[0] - WINDOW_SIZE / CELL_SIZE):\n",
    "        for x in range(0,histogram.shape[1] - WINDOW_SIZE / CELL_SIZE):\n",
    "            myFeature = histogram[y : y+WINDOW_SIZE/CELL_SIZE, x : x+WINDOW_SIZE/CELL_SIZE].reshape(-1)\n",
    "            score = svm.decision_function(myFeature)\n",
    "            scores.append(score)\n",
    "            if score[0] > THRESHOLD:\n",
    "                #検出!\n",
    "                scale = (scale_factor ** s)\n",
    "                detections.append({ 'x': x * CELL_SIZE / scale,\n",
    "                                    'y': y * CELL_SIZE / scale,\n",
    "                                    'width' : WINDOW_SIZE / scale,\n",
    "                                    'height': WINDOW_SIZE / scale,\n",
    "                                    'score' : score,\n",
    "                                    'histogram' : myFeature})\n",
    "    target_scaled = transform.rescale(target_scaled, scale_factor)\n",
    "    s += 1"
   ]
  },
  {
   "cell_type": "code",
   "execution_count": null,
   "metadata": {
    "collapsed": false
   },
   "outputs": [],
   "source": [
    "max(scores) , target.shape , target_scaled.shape"
   ]
  },
  {
   "cell_type": "code",
   "execution_count": null,
   "metadata": {
    "collapsed": false
   },
   "outputs": [],
   "source": [
    "detections"
   ]
  },
  {
   "cell_type": "code",
   "execution_count": null,
   "metadata": {
    "collapsed": false
   },
   "outputs": [],
   "source": [
    "# Scoreでソート\n",
    "detections = sorted(detections,key=lambda x: x['score'],reverse=True)"
   ]
  },
  {
   "cell_type": "code",
   "execution_count": null,
   "metadata": {
    "collapsed": false
   },
   "outputs": [],
   "source": [
    "# 結果を可視化\n",
    "fig, (ax1,ax2) = plt.subplots(ncols=2, figsize=(8,3))\n",
    "\n",
    "ax1.imshow(target)\n",
    "ax1.set_axis_off()\n",
    "ax1.set_title('target')\n",
    "\n",
    "ax2.imshow(target)\n",
    "ax2.set_axis_off()\n",
    "ax2.set_title('detections')\n",
    "for i in range(0,2): #上位2件を描画\n",
    "    rect = plt.Rectangle((detections[i][\"x\"],detections[i][\"y\"]),detections[i][\"height\"],detections[i][\"width\"], edgecolor='r', facecolor='none') #マッチ位置\n",
    "    ax2.add_patch(rect)\n",
    "\n"
   ]
  },
  {
   "cell_type": "markdown",
   "metadata": {},
   "source": [
    "----"
   ]
  },
  {
   "cell_type": "markdown",
   "metadata": {},
   "source": [
    "◯リスト6 Non-maximum Suppression"
   ]
  },
  {
   "cell_type": "code",
   "execution_count": null,
   "metadata": {
    "collapsed": true
   },
   "outputs": [],
   "source": [
    "def overlap_score(a,b):\n",
    "    left   = max(a['x'],b['x'])\n",
    "    right  = min(a['x']+a['width'],b['x']+b['width'])\n",
    "    top    = max(a['y'],b['y'])\n",
    "    bottom = min(a['y']+a['height'],b['y']+b['height'])\n",
    "    intersect = max(0, (right - left) * (bottom - top))\n",
    "    union  = a['width'] * a['height'] + b['width'] * b['height'] - intersect\n",
    "    return intersect / union\n",
    "detections = sorted(detections,key=lambda x: x['score'],reverse=True)\n",
    "deleted = set()\n",
    "for i in range(len(detections)):\n",
    "    if i in deleted: continue\n",
    "    for j in range(i + 1, len(detections)):\n",
    "        if overlap_score(detections[i],detections[j]) > 0.3:\n",
    "            deleted.add(j)\n",
    "detections = [d for i,d in enumerate(detections) if not i in deleted]"
   ]
  },
  {
   "cell_type": "code",
   "execution_count": null,
   "metadata": {
    "collapsed": false
   },
   "outputs": [],
   "source": [
    "detections"
   ]
  },
  {
   "cell_type": "code",
   "execution_count": null,
   "metadata": {
    "collapsed": false
   },
   "outputs": [],
   "source": [
    "# 結果を可視化\n",
    "fig, (ax1,ax2) = plt.subplots(ncols=2, figsize=(8,3))\n",
    "\n",
    "ax1.imshow(target)\n",
    "ax1.set_axis_off()\n",
    "ax1.set_title('target')\n",
    "\n",
    "ax2.imshow(target)\n",
    "ax2.set_axis_off()\n",
    "ax2.set_title('detections')\n",
    "for i in range(0,1): #上位1件を描画\n",
    "    rect = plt.Rectangle((detections[i][\"x\"],detections[i][\"y\"]),detections[i][\"height\"],detections[i][\"width\"], edgecolor='r', facecolor='none') #マッチ位置\n",
    "    ax2.add_patch(rect)\n"
   ]
  },
  {
   "cell_type": "markdown",
   "metadata": {},
   "source": [
    "### おわり"
   ]
  },
  {
   "cell_type": "code",
   "execution_count": null,
   "metadata": {
    "collapsed": true
   },
   "outputs": [],
   "source": []
  },
  {
   "cell_type": "markdown",
   "metadata": {},
   "source": [
    "## 精度向上の試み\n",
    "\n",
    "- サンプル数をたくさん与えてみる\n"
   ]
  },
  {
   "cell_type": "code",
   "execution_count": null,
   "metadata": {
    "collapsed": false
   },
   "outputs": [],
   "source": [
    "xml_dir = 'xmls/'\n",
    "positive_dir = 'cats_big/'\n",
    "#negative_dir = 'dogs_big/'\n",
    "negative_dir = 'negatives/'\n",
    "positive_samples = get_features(positive_dir,xml_dir)\n",
    "#negative_samples = get_features(negative_dir,xml_dir)\n",
    "negative_samples = get_featuresNega(negative_dir)\n",
    "n_positives = len(positive_samples)\n",
    "n_negatives = len(negative_samples)\n",
    "X = np.array(positive_samples + negative_samples)\n",
    "y = np.array([1 for i in range(n_positives)] +\n",
    "             [0 for i in range(n_negatives)])"
   ]
  },
  {
   "cell_type": "code",
   "execution_count": null,
   "metadata": {
    "collapsed": false
   },
   "outputs": [],
   "source": [
    "# -- 大量サンプルデータ LBPのIN/OUT --\n",
    "#pickle.dump((X,y),open('bigSample_Xy.data','w')) #1.4G\n",
    "#X,y = pickle.load(open('bigSample_Xy.data'))"
   ]
  },
  {
   "cell_type": "code",
   "execution_count": null,
   "metadata": {
    "collapsed": true
   },
   "outputs": [],
   "source": [
    "X , y = sklearn.utils.shuffle(X , y)"
   ]
  },
  {
   "cell_type": "code",
   "execution_count": null,
   "metadata": {
    "collapsed": false
   },
   "outputs": [],
   "source": [
    "X.shape , y.shape"
   ]
  },
  {
   "cell_type": "code",
   "execution_count": null,
   "metadata": {
    "collapsed": false
   },
   "outputs": [],
   "source": [
    "n_positives , n_negatives"
   ]
  },
  {
   "cell_type": "code",
   "execution_count": null,
   "metadata": {
    "collapsed": true
   },
   "outputs": [],
   "source": [
    "classifier = sklearn.svm.LinearSVC(C = 0.0001)"
   ]
  },
  {
   "cell_type": "code",
   "execution_count": null,
   "metadata": {
    "collapsed": false
   },
   "outputs": [],
   "source": [
    "classifier.fit(X,y)"
   ]
  },
  {
   "cell_type": "code",
   "execution_count": null,
   "metadata": {
    "collapsed": false
   },
   "outputs": [],
   "source": [
    "positive_test_dir = 'cats_test/'\n",
    "negative_test_dir = 'dogs_test/'\n",
    "positive_test_samples = get_features(positive_test_dir,xml_dir)\n",
    "negative_test_samples = get_features(negative_test_dir,xml_dir)\n",
    "n_test_positives = len(positive_test_samples)\n",
    "n_test_negatives = len(negative_test_samples)\n",
    "X = np.array(positive_test_samples + negative_test_samples)\n",
    "y = np.array([1 for i in range(n_test_positives)] +\n",
    "             [0 for i in range(n_test_negatives)])"
   ]
  },
  {
   "cell_type": "code",
   "execution_count": null,
   "metadata": {
    "collapsed": true
   },
   "outputs": [],
   "source": [
    "y_predict = classifier.predict(X)"
   ]
  },
  {
   "cell_type": "code",
   "execution_count": null,
   "metadata": {
    "collapsed": false
   },
   "outputs": [],
   "source": [
    "y_predict"
   ]
  },
  {
   "cell_type": "code",
   "execution_count": null,
   "metadata": {
    "collapsed": false
   },
   "outputs": [],
   "source": [
    "correct = 0\n",
    "for i in range(len(y)):\n",
    "    if y[i] == y_predict[i]: correct += 1\n",
    "print 'Accuracy: %f' % (float(correct)/len(y))"
   ]
  },
  {
   "cell_type": "code",
   "execution_count": null,
   "metadata": {
    "collapsed": true
   },
   "outputs": [],
   "source": []
  },
  {
   "cell_type": "code",
   "execution_count": null,
   "metadata": {
    "collapsed": true
   },
   "outputs": [],
   "source": [
    "THRESHOLD = 1.0 #3.0だと厳しすぎる\n",
    "targetImg = 'cats_test/Abyssinian_195.jpg' #正面向いている写真を選ばないときつい\n",
    "targetXml = 'xmls/Abyssinian_195.xml'"
   ]
  },
  {
   "cell_type": "code",
   "execution_count": null,
   "metadata": {
    "collapsed": false
   },
   "outputs": [],
   "source": [
    "svm = classifier\n",
    "target , face = loadImagesWithFaceResize(targetImg,targetXml,64)\n",
    "target_scaled = target + 0\n",
    "scale_factor = 2.0** (-1.0/8.0)\n",
    "scores = []\n",
    "detections = []\n",
    "s = 1\n",
    "#for s in range(16):\n",
    "while target_scaled.shape > (WINDOW_SIZE, WINDOW_SIZE):\n",
    "    histogram = get_histogram(color.rgb2gray(target_scaled))\n",
    "    print \"target shape is \", target_scaled.shape\n",
    "    print \"histogram shape is \", histogram.shape\n",
    "    for y in range(0,histogram.shape[0] - WINDOW_SIZE / CELL_SIZE):\n",
    "        for x in range(0,histogram.shape[1] - WINDOW_SIZE / CELL_SIZE):\n",
    "            myFeature = histogram[y : y+WINDOW_SIZE/CELL_SIZE, x : x+WINDOW_SIZE/CELL_SIZE].reshape(-1)\n",
    "            score = svm.decision_function(myFeature)\n",
    "            scores.append(score)\n",
    "            if score[0] > THRESHOLD:\n",
    "                #検出!\n",
    "                scale = (scale_factor ** s)\n",
    "                detections.append({ 'x': x * CELL_SIZE / scale,\n",
    "                                    'y': y * CELL_SIZE / scale,\n",
    "                                    'width' : WINDOW_SIZE / scale,\n",
    "                                    'height': WINDOW_SIZE / scale,\n",
    "                                    'score' : score,\n",
    "                                    'histogram' : myFeature})\n",
    "    target_scaled = transform.rescale(target_scaled, scale_factor)\n",
    "    s += 1"
   ]
  },
  {
   "cell_type": "code",
   "execution_count": null,
   "metadata": {
    "collapsed": false
   },
   "outputs": [],
   "source": [
    "# Scoreでソート\n",
    "detections = sorted(detections,key=lambda x: x['score'],reverse=True)"
   ]
  },
  {
   "cell_type": "code",
   "execution_count": null,
   "metadata": {
    "collapsed": false
   },
   "outputs": [],
   "source": [
    "len(detections)"
   ]
  },
  {
   "cell_type": "code",
   "execution_count": null,
   "metadata": {
    "collapsed": false
   },
   "outputs": [],
   "source": [
    "# 結果を可視化\n",
    "fig, (ax1,ax2) = plt.subplots(ncols=2, figsize=(8,3))\n",
    "\n",
    "ax1.imshow(target)\n",
    "ax1.set_axis_off()\n",
    "ax1.set_title('target')\n",
    "\n",
    "ax2.imshow(target)\n",
    "ax2.set_axis_off()\n",
    "ax2.set_title('detections')\n",
    "for i in range(0,2): #上位2件を描画\n",
    "    rect = plt.Rectangle((detections[i][\"x\"],detections[i][\"y\"]),detections[i][\"height\"],detections[i][\"width\"], edgecolor='r', facecolor='none') #マッチ位置\n",
    "    ax2.add_patch(rect)\n",
    "\n"
   ]
  },
  {
   "cell_type": "code",
   "execution_count": null,
   "metadata": {
    "collapsed": true
   },
   "outputs": [],
   "source": []
  }
 ],
 "metadata": {
  "kernelspec": {
   "display_name": "Python 2",
   "language": "python",
   "name": "python2"
  },
  "language_info": {
   "codemirror_mode": {
    "name": "ipython",
    "version": 2
   },
   "file_extension": ".py",
   "mimetype": "text/x-python",
   "name": "python",
   "nbconvert_exporter": "python",
   "pygments_lexer": "ipython2",
   "version": "2.7.6"
  }
 },
 "nbformat": 4,
 "nbformat_minor": 0
}
